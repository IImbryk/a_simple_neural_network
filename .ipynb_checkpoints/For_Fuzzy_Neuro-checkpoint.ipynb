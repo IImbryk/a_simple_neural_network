{
 "cells": [
  {
   "cell_type": "code",
   "execution_count": 1,
   "metadata": {},
   "outputs": [
    {
     "name": "stderr",
     "output_type": "stream",
     "text": [
      "Using TensorFlow backend.\n"
     ]
    }
   ],
   "source": [
    "from keras.models import Sequential\n",
    "from keras.layers import Dense, Flatten, LSTM, Embedding\n",
    "import numpy as np\n",
    "import pandas as pd\n",
    "from datetime import datetime, date, time, timedelta\n",
    "import matplotlib.pyplot as plt\n",
    "from statistics import median\n",
    "from keras.utils import plot_model #интересные возможности Keras\n",
    "from keras.models import load_model #для сохранения/загрузки модели"
   ]
  },
  {
   "cell_type": "code",
   "execution_count": 23,
   "metadata": {},
   "outputs": [],
   "source": [
    "#считываю показания с датчиков\n",
    "df_Vibro = pd.read_csv(\"Vibro.csv\",sep=';')\n",
    "df_PressIn= pd.read_csv(\"PressIn.csv\", sep = ';')"
   ]
  },
  {
   "cell_type": "code",
   "execution_count": 30,
   "metadata": {},
   "outputs": [],
   "source": [
    "def str_in_time(df):#перевод строки в дату\n",
    "    for i in range(0,len(df)):\n",
    "        a = datetime.strptime(df['Tag_Date'][i],\"%d.%m.%Y %H:%M:%S\")\n",
    "        df.loc[i,'Tag_Date'] = a#.timestamp()\n",
    "        #print(i,end=' ')\n",
    "    return df"
   ]
  },
  {
   "cell_type": "markdown",
   "metadata": {},
   "source": [
    "### 1. Узнаём длину:"
   ]
  },
  {
   "cell_type": "code",
   "execution_count": 24,
   "metadata": {},
   "outputs": [
    {
     "name": "stdout",
     "output_type": "stream",
     "text": [
      "114995 \n",
      " 24524\n"
     ]
    }
   ],
   "source": [
    "print(len(df_Vibro),'\\n',len(df_PressIn))"
   ]
  },
  {
   "cell_type": "markdown",
   "metadata": {},
   "source": [
    "### 2. Какой промежуток времени рассматриваем:"
   ]
  },
  {
   "cell_type": "code",
   "execution_count": 28,
   "metadata": {},
   "outputs": [
    {
     "name": "stdout",
     "output_type": "stream",
     "text": [
      "25.08.2017 0:28:25   03.09.2017 10:06:25\n",
      "25.08.2017 0:00:00   03.09.2017 23:57:05\n"
     ]
    }
   ],
   "source": [
    "print(df_Vibro['Tag_Date'][0],' ', df_Vibro['Tag_Date'][len(df_Vibro)-1])\n",
    "print(df_PressIn['Tag_Date'][0],' ', df_PressIn['Tag_Date'][len(df_PressIn)-1])"
   ]
  },
  {
   "cell_type": "markdown",
   "metadata": {},
   "source": [
    "### 3. Переводим строку в дату"
   ]
  },
  {
   "cell_type": "code",
   "execution_count": 31,
   "metadata": {},
   "outputs": [],
   "source": [
    "#df_Vibro = str_in_time(df_Vibro)"
   ]
  },
  {
   "cell_type": "code",
   "execution_count": 32,
   "metadata": {},
   "outputs": [],
   "source": [
    "#df_PressInssIn = str_in_time(df_PressIn)"
   ]
  },
  {
   "cell_type": "markdown",
   "metadata": {},
   "source": [
    "### 4. Предобработка для нейро-нечеткой части"
   ]
  },
  {
   "cell_type": "code",
   "execution_count": 162,
   "metadata": {},
   "outputs": [],
   "source": [
    "def from_dt_create_three(df,dt, lim):\n",
    "    dff = pd.DataFrame()\n",
    "    dt = timedelta(seconds = dt)\n",
    "    i = 0\n",
    "    last = 0\n",
    "    finish_all = len(df)\n",
    "    dff.loc[i,'Tag_Date'] = df['Tag_Date'][0]\n",
    "    while (df['Tag_Date'][finish_all - 1] > dff['Tag_Date'][i]):\n",
    "        i = i + 1\n",
    "        dff.loc[i,'Tag_Date'] = dff['Tag_Date'][i-1] + dt\n",
    "        \n",
    "        # бежим по исходному массиву, пытаемся найти входящие в временной промежуток\n",
    "        list_date = [] # в этот лист кладу (даты) попадающие в эти промежутки\n",
    "        for j in range(last,finish_all):\n",
    "            if df['Tag_Date'][j] < dff['Tag_Date'][i]:\n",
    "                list_date.append(df['Tag_Date'][j])\n",
    "            else:\n",
    "                last = j\n",
    "                break\n",
    "        dff = create_columns_from_list(dff,i,list_date)\n",
    "    print(dff)\n",
    "    print(df)\n",
    "\n"
   ]
  },
  {
   "cell_type": "code",
   "execution_count": 163,
   "metadata": {},
   "outputs": [],
   "source": [
    "def create_columns_from_list(dff, i, list_date):\n",
    "    dff.loc[i,'len_list_date']  = len(list_date)\n",
    "    return dff"
   ]
  },
  {
   "cell_type": "code",
   "execution_count": null,
   "metadata": {},
   "outputs": [],
   "source": [
    "def create_columns_from_list_PressIn(dff, i, list_date):\n",
    "    dff.loc[i,'len_list_date_PressIn']  = len(list_date)\n",
    "    return dff"
   ]
  },
  {
   "cell_type": "code",
   "execution_count": null,
   "metadata": {},
   "outputs": [],
   "source": [
    "from_dt_create_three(df_Vibro, 50, 6)"
   ]
  },
  {
   "cell_type": "code",
   "execution_count": null,
   "metadata": {},
   "outputs": [],
   "source": [
    "def add_PressIn(df, df_PressIn,lim):\n",
    "    last = 0\n",
    "    for i in range(0,len(df)-2):\n",
    "        for j in range(last, len(df_PressIn))\n",
    "        list_PressIn = []\n",
    "        if (df['Tag_Date'][i]<= df_PressIn['Tag_Date'][j]) && (df_PressIn['Tag_Date'][j] < df['Tag_Date'][i+1]):\n",
    "            list_PressIn.append(df['Tag_Date'][j])\n",
    "        else:\n",
    "            last = j\n",
    "        create_columns_from_list_PressIn(df,i,list_PressIn)\n",
    "    print(dff)\n",
    "    print(df)\n",
    "\n"
   ]
  }
 ],
 "metadata": {
  "kernelspec": {
   "display_name": "Python 3",
   "language": "python",
   "name": "python3"
  },
  "language_info": {
   "codemirror_mode": {
    "name": "ipython",
    "version": 3
   },
   "file_extension": ".py",
   "mimetype": "text/x-python",
   "name": "python",
   "nbconvert_exporter": "python",
   "pygments_lexer": "ipython3",
   "version": "3.6.7"
  }
 },
 "nbformat": 4,
 "nbformat_minor": 2
}
